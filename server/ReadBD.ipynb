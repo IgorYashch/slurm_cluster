{
 "cells": [
  {
   "cell_type": "code",
   "execution_count": 22,
   "id": "bb95e961-e282-4b6c-abe5-6caffb46dd9e",
   "metadata": {},
   "outputs": [
    {
     "name": "stdout",
     "output_type": "stream",
     "text": [
      "acct_coord_table\n",
      "acct_table\n",
      "clus_res_table\n",
      "cluster_table\n",
      "convert_version_table\n",
      "federation_table\n",
      "micro_assoc_table\n",
      "micro_assoc_usage_day_table\n",
      "micro_assoc_usage_hour_table\n",
      "micro_assoc_usage_month_table\n",
      "micro_event_table\n",
      "micro_job_table\n",
      "micro_last_ran_table\n",
      "micro_resv_table\n",
      "micro_step_table\n",
      "micro_suspend_table\n",
      "micro_usage_day_table\n",
      "micro_usage_hour_table\n",
      "micro_usage_month_table\n",
      "micro_wckey_table\n",
      "micro_wckey_usage_day_table\n",
      "micro_wckey_usage_hour_table\n",
      "micro_wckey_usage_month_table\n",
      "qos_table\n",
      "res_table\n",
      "table_defs_table\n",
      "tres_table\n",
      "txn_table\n",
      "user_table\n"
     ]
    }
   ],
   "source": [
    "import MySQLdb\n",
    "\n",
    "# Database connection parameters\n",
    "host = \"localhost\"\n",
    "user = \"slurm\"\n",
    "password = \"slurm\"\n",
    "database = \"slurmdb_micro3\"\n",
    "\n",
    "# Establish a connection to the database\n",
    "conn = MySQLdb.connect(host=host, user=user, passwd=password, db=database)\n",
    "\n",
    "# Create a cursor object\n",
    "cursor = conn.cursor()\n",
    "\n",
    "# Execute 'SHOW TABLES' command\n",
    "cursor.execute(\"SHOW TABLES\")\n",
    "\n",
    "# Fetch all the table names\n",
    "tables = cursor.fetchall()\n",
    "\n",
    "# Print each table name\n",
    "for table_name in tables:\n",
    "    print(table_name[0])\n"
   ]
  },
  {
   "cell_type": "code",
   "execution_count": null,
   "id": "df85a196-fbe9-4416-885f-f117ceb5f997",
   "metadata": {},
   "outputs": [],
   "source": []
  },
  {
   "cell_type": "code",
   "execution_count": 23,
   "id": "22948def-db43-4d98-847d-e5e5a83dcc80",
   "metadata": {},
   "outputs": [
    {
     "data": {
      "text/plain": [
       "((1,\n",
       "  1711635786,\n",
       "  0,\n",
       "  'account1',\n",
       "  None,\n",
       "  None,\n",
       "  0,\n",
       "  0,\n",
       "  None,\n",
       "  None,\n",
       "  None,\n",
       "  1,\n",
       "  0,\n",
       "  None,\n",
       "  None,\n",
       "  256,\n",
       "  8,\n",
       "  'test_job',\n",
       "  7,\n",
       "  0,\n",
       "  4294967294,\n",
       "  None,\n",
       "  1001,\n",
       "  1,\n",
       "  0,\n",
       "  0,\n",
       "  10001,\n",
       "  100,\n",
       "  0,\n",
       "  4294967294,\n",
       "  -1,\n",
       "  24,\n",
       "  None,\n",
       "  9223372036854778608,\n",
       "  'n1',\n",
       "  1,\n",
       "  '0',\n",
       "  'normal',\n",
       "  1077083,\n",
       "  5,\n",
       "  1,\n",
       "  1711635785,\n",
       "  1711635785,\n",
       "  1711635786,\n",
       "  1711635786,\n",
       "  0,\n",
       "  '',\n",
       "  '',\n",
       "  '/opt/server',\n",
       "  'sbatch tasks/task.sh',\n",
       "  None,\n",
       "  0,\n",
       "  '1=1,2=2800,3=18446744073709551614,4=1,5=1',\n",
       "  '1=1,2=2800,4=1,5=1'),\n",
       " (3,\n",
       "  1711635796,\n",
       "  0,\n",
       "  'account1',\n",
       "  None,\n",
       "  None,\n",
       "  0,\n",
       "  0,\n",
       "  None,\n",
       "  None,\n",
       "  None,\n",
       "  1,\n",
       "  0,\n",
       "  None,\n",
       "  None,\n",
       "  256,\n",
       "  4,\n",
       "  'test_job',\n",
       "  8,\n",
       "  0,\n",
       "  4294967294,\n",
       "  None,\n",
       "  1002,\n",
       "  1,\n",
       "  0,\n",
       "  0,\n",
       "  10002,\n",
       "  100,\n",
       "  0,\n",
       "  4294967294,\n",
       "  -1,\n",
       "  0,\n",
       "  None,\n",
       "  9223372036854778608,\n",
       "  'n1',\n",
       "  1,\n",
       "  '0',\n",
       "  'normal',\n",
       "  1077083,\n",
       "  5,\n",
       "  1,\n",
       "  1711635795,\n",
       "  1711635795,\n",
       "  1711635796,\n",
       "  1711635796,\n",
       "  0,\n",
       "  '',\n",
       "  '',\n",
       "  '/opt/server',\n",
       "  'sbatch tasks/task.sh',\n",
       "  None,\n",
       "  0,\n",
       "  '1=1,2=2800,3=18446744073709551614,4=1,5=1',\n",
       "  '1=1,2=2800,4=1,5=1'),\n",
       " (5,\n",
       "  1711635806,\n",
       "  0,\n",
       "  'account1',\n",
       "  None,\n",
       "  None,\n",
       "  0,\n",
       "  0,\n",
       "  None,\n",
       "  None,\n",
       "  None,\n",
       "  1,\n",
       "  0,\n",
       "  None,\n",
       "  None,\n",
       "  256,\n",
       "  4,\n",
       "  'test_job',\n",
       "  9,\n",
       "  0,\n",
       "  4294967294,\n",
       "  None,\n",
       "  1003,\n",
       "  1,\n",
       "  0,\n",
       "  0,\n",
       "  10003,\n",
       "  100,\n",
       "  0,\n",
       "  4294967294,\n",
       "  -1,\n",
       "  0,\n",
       "  None,\n",
       "  9223372036854778608,\n",
       "  'n1',\n",
       "  1,\n",
       "  '0',\n",
       "  'normal',\n",
       "  1077083,\n",
       "  5,\n",
       "  1,\n",
       "  1711635805,\n",
       "  1711635805,\n",
       "  1711635805,\n",
       "  1711635805,\n",
       "  0,\n",
       "  '',\n",
       "  '',\n",
       "  '/opt/server',\n",
       "  'sbatch tasks/task.sh',\n",
       "  None,\n",
       "  0,\n",
       "  '1=1,2=2800,3=18446744073709551614,4=1,5=1',\n",
       "  '1=1,2=2800,4=1,5=1'))"
      ]
     },
     "execution_count": 23,
     "metadata": {},
     "output_type": "execute_result"
    }
   ],
   "source": [
    "# Execute a SELECT query\n",
    "cursor.execute(\"SELECT * FROM micro_job_table\")\n",
    "tables = cursor.fetchall()\n",
    "tables"
   ]
  },
  {
   "cell_type": "code",
   "execution_count": 24,
   "id": "92bab2ff-0bb2-4634-82ca-7826ea212dad",
   "metadata": {},
   "outputs": [],
   "source": [
    "cursor.close()\n",
    "conn.close()"
   ]
  },
  {
   "cell_type": "code",
   "execution_count": 25,
   "id": "96a17728-e0cb-4368-a578-17bbab22b4bb",
   "metadata": {},
   "outputs": [],
   "source": [
    "# pip install mysql-connector-python\n"
   ]
  },
  {
   "cell_type": "code",
   "execution_count": 26,
   "id": "82cb783c-b1a1-402b-8275-41a3aef982c5",
   "metadata": {},
   "outputs": [
    {
     "ename": "SyntaxError",
     "evalue": "future feature annotations is not defined (abstracts.py, line 33)",
     "output_type": "error",
     "traceback": [
      "Traceback \u001b[0;36m(most recent call last)\u001b[0m:\n",
      "  File \u001b[1;32m\"/usr/local/lib/python3.6/site-packages/IPython/core/interactiveshell.py\"\u001b[0m, line \u001b[1;32m3343\u001b[0m, in \u001b[1;35mrun_code\u001b[0m\n    exec(code_obj, self.user_global_ns, self.user_ns)\n",
      "  File \u001b[1;32m\"<ipython-input-26-d8f30ec5ced1>\"\u001b[0m, line \u001b[1;32m1\u001b[0m, in \u001b[1;35m<module>\u001b[0m\n    import mysql.connector\n",
      "  File \u001b[1;32m\"/usr/local/lib/python3.6/site-packages/mysql/connector/__init__.py\"\u001b[0m, line \u001b[1;32m32\u001b[0m, in \u001b[1;35m<module>\u001b[0m\n    from .connection_cext import CMySQLConnection\n",
      "\u001b[0;36m  File \u001b[0;32m\"/usr/local/lib/python3.6/site-packages/mysql/connector/connection_cext.py\"\u001b[0;36m, line \u001b[0;32m40\u001b[0;36m, in \u001b[0;35m<module>\u001b[0;36m\u001b[0m\n\u001b[0;31m    from .abstracts import MySQLConnectionAbstract\u001b[0m\n",
      "\u001b[0;36m  File \u001b[0;32m\"/usr/local/lib/python3.6/site-packages/mysql/connector/abstracts.py\"\u001b[0;36m, line \u001b[0;32m33\u001b[0m\n\u001b[0;31m    from __future__ import annotations\u001b[0m\n\u001b[0m                                      ^\u001b[0m\n\u001b[0;31mSyntaxError\u001b[0m\u001b[0;31m:\u001b[0m future feature annotations is not defined\n"
     ]
    }
   ],
   "source": [
    "import mysql.connector\n",
    "\n",
    "# Establish a connection to the MySQL server\n",
    "dataBase = mysql.connector.connect(\n",
    "    host = \"localhost\",\n",
    "    user = \"slurm\",\n",
    "    password = \"slurm\",\n",
    "    database = \"slurmdb_micro3\"\n",
    ")\n",
    "\n",
    "# Prepare a cursor object\n",
    "cursorObject = dataBase.cursor()"
   ]
  },
  {
   "cell_type": "code",
   "execution_count": 21,
   "id": "8cb46318-a8d1-4984-b671-754dc3f91dbf",
   "metadata": {},
   "outputs": [
    {
     "name": "stdout",
     "output_type": "stream",
     "text": [
      "Requirement already satisfied: pip in /usr/local/lib/python3.6/site-packages (21.3.1)\n",
      "\u001b[33mWARNING: Running pip as the 'root' user can result in broken permissions and conflicting behaviour with the system package manager. It is recommended to use a virtual environment instead: https://pip.pypa.io/warnings/venv\u001b[0m\n"
     ]
    }
   ],
   "source": [
    "!pip install --upgrade pip"
   ]
  },
  {
   "cell_type": "code",
   "execution_count": 28,
   "id": "9f3b8f5f-43d5-4b9f-ae20-21b8d7dcf98f",
   "metadata": {},
   "outputs": [
    {
     "name": "stdout",
     "output_type": "stream",
     "text": [
      "Python 3.6.8\n"
     ]
    }
   ],
   "source": [
    "!python3 --version\n"
   ]
  },
  {
   "cell_type": "code",
   "execution_count": 29,
   "id": "4d5c54a6-bc26-4a05-a0b0-a85a3e9688a2",
   "metadata": {},
   "outputs": [
    {
     "name": "stdout",
     "output_type": "stream",
     "text": [
      "sys.version_info(major=3, minor=6, micro=8, releaselevel='final', serial=0)\n"
     ]
    }
   ],
   "source": [
    "import sys\n",
    "print(sys.version_info)"
   ]
  },
  {
   "cell_type": "code",
   "execution_count": null,
   "id": "56eac0ff-cc19-4233-a570-6e85609c0994",
   "metadata": {},
   "outputs": [],
   "source": []
  }
 ],
 "metadata": {
  "kernelspec": {
   "display_name": "Python 3",
   "language": "python",
   "name": "python3"
  },
  "language_info": {
   "codemirror_mode": {
    "name": "ipython",
    "version": 3
   },
   "file_extension": ".py",
   "mimetype": "text/x-python",
   "name": "python",
   "nbconvert_exporter": "python",
   "pygments_lexer": "ipython3",
   "version": "3.6.8"
  }
 },
 "nbformat": 4,
 "nbformat_minor": 5
}
