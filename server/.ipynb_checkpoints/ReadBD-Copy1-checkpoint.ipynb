{
 "cells": [
  {
   "cell_type": "code",
   "execution_count": 7,
   "id": "bb95e961-e282-4b6c-abe5-6caffb46dd9e",
   "metadata": {},
   "outputs": [
    {
     "name": "stdout",
     "output_type": "stream",
     "text": [
      "acct_coord_table\n",
      "acct_table\n",
      "clus_res_table\n",
      "cluster_table\n",
      "convert_version_table\n",
      "federation_table\n",
      "micro_assoc_table\n",
      "micro_assoc_usage_day_table\n",
      "micro_assoc_usage_hour_table\n",
      "micro_assoc_usage_month_table\n",
      "micro_event_table\n",
      "micro_job_table\n",
      "micro_last_ran_table\n",
      "micro_resv_table\n",
      "micro_step_table\n",
      "micro_suspend_table\n",
      "micro_usage_day_table\n",
      "micro_usage_hour_table\n",
      "micro_usage_month_table\n",
      "micro_wckey_table\n",
      "micro_wckey_usage_day_table\n",
      "micro_wckey_usage_hour_table\n",
      "micro_wckey_usage_month_table\n",
      "qos_table\n",
      "res_table\n",
      "table_defs_table\n",
      "tres_table\n",
      "txn_table\n",
      "user_table\n"
     ]
    }
   ],
   "source": [
    "import MySQLdb\n",
    "\n",
    "# Database connection parameters\n",
    "host = \"localhost\"\n",
    "user = \"slurm\"\n",
    "password = \"slurm\"\n",
    "database = \"slurmdb_micro3\"\n",
    "\n",
    "# Establish a connection to the database\n",
    "conn = MySQLdb.connect(host=host, user=user, passwd=password, db=database)\n",
    "\n",
    "# Create a cursor object\n",
    "cursor = conn.cursor()\n",
    "\n",
    "# Execute 'SHOW TABLES' command\n",
    "cursor.execute(\"SHOW TABLES\")\n",
    "\n",
    "# Fetch all the table names\n",
    "tables = cursor.fetchall()\n",
    "\n",
    "# Print each table name\n",
    "for table_name in tables:\n",
    "    print(table_name[0])\n"
   ]
  },
  {
   "cell_type": "code",
   "execution_count": null,
   "id": "df85a196-fbe9-4416-885f-f117ceb5f997",
   "metadata": {},
   "outputs": [],
   "source": []
  },
  {
   "cell_type": "code",
   "execution_count": 10,
   "id": "22948def-db43-4d98-847d-e5e5a83dcc80",
   "metadata": {},
   "outputs": [
    {
     "data": {
      "text/plain": [
       "()"
      ]
     },
     "execution_count": 10,
     "metadata": {},
     "output_type": "execute_result"
    }
   ],
   "source": [
    "# Execute a SELECT query\n",
    "cursor.execute(\"SELECT * FROM micro_usage_hour_table\")\n",
    "tables = cursor.fetchall()\n",
    "tables"
   ]
  },
  {
   "cell_type": "code",
   "execution_count": null,
   "id": "92bab2ff-0bb2-4634-82ca-7826ea212dad",
   "metadata": {},
   "outputs": [],
   "source": [
    "cursor.close()\n",
    "conn.close()"
   ]
  }
 ],
 "metadata": {
  "kernelspec": {
   "display_name": "Python 3",
   "language": "python",
   "name": "python3"
  },
  "language_info": {
   "codemirror_mode": {
    "name": "ipython",
    "version": 3
   },
   "file_extension": ".py",
   "mimetype": "text/x-python",
   "name": "python",
   "nbconvert_exporter": "python",
   "pygments_lexer": "ipython3",
   "version": "3.6.8"
  }
 },
 "nbformat": 4,
 "nbformat_minor": 5
}
