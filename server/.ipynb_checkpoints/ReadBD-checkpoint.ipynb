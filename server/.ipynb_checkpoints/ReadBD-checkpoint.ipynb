{
 "cells": [
  {
   "cell_type": "code",
   "execution_count": 2,
   "id": "bb95e961-e282-4b6c-abe5-6caffb46dd9e",
   "metadata": {},
   "outputs": [
    {
     "name": "stdout",
     "output_type": "stream",
     "text": [
      "Connected to the database\n"
     ]
    }
   ],
   "source": [
    "import MySQLdb\n",
    "\n",
    "# Can find in slurmdbd.conf\n",
    "host = \"localhost\"\n",
    "user = \"slurm\"\n",
    "password = \"slurm\"\n",
    "database = \"slurmdb_micro3\"\n",
    "\n",
    "# Establish a connection to the database\n",
    "conn = MySQLdb.connect(host=host, user=user, passwd=password, db=database)\n",
    "\n",
    "# Check if the connection is successfully established\n",
    "if conn:\n",
    "    print(\"Connected to the database\")\n",
    "else:\n",
    "    print(\"Failed to connect to the database\")\n",
    "\n",
    "# Always remember to close the connection when done\n",
    "conn.close()"
   ]
  },
  {
   "cell_type": "code",
   "execution_count": null,
   "id": "92bab2ff-0bb2-4634-82ca-7826ea212dad",
   "metadata": {},
   "outputs": [],
   "source": []
  }
 ],
 "metadata": {
  "kernelspec": {
   "display_name": "Python 3",
   "language": "python",
   "name": "python3"
  },
  "language_info": {
   "codemirror_mode": {
    "name": "ipython",
    "version": 3
   },
   "file_extension": ".py",
   "mimetype": "text/x-python",
   "name": "python",
   "nbconvert_exporter": "python",
   "pygments_lexer": "ipython3",
   "version": "3.6.8"
  }
 },
 "nbformat": 4,
 "nbformat_minor": 5
}
