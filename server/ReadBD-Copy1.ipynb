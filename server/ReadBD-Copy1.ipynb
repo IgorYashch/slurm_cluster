{
 "cells": [
  {
   "cell_type": "code",
   "execution_count": 2,
   "id": "bb95e961-e282-4b6c-abe5-6caffb46dd9e",
   "metadata": {},
   "outputs": [
    {
     "name": "stdout",
     "output_type": "stream",
     "text": [
      "Job submitted for user user1: b'Submitted batch job 1001'\n",
      "Job submitted for user user2: b'Submitted batch job 1002'\n",
      "Job submitted for user user3: b'Submitted batch job 1003'\n"
     ]
    }
   ],
   "source": [
    "import subprocess\n",
    "import time\n",
    "\n",
    "# Список пользователей, под которыми нужно запустить задачу sbatch\n",
    "users = ['user1', 'user2', 'user3']\n",
    "\n",
    "# Путь к скрипту для sbatch\n",
    "sbatch_command = 'sbatch tasks/task.sh'\n",
    "\n",
    "for user in users:\n",
    "    # Формируем команду для запуска через sudo\n",
    "    sudo_command = f'sudo -u {user} {sbatch_command}'\n",
    "    \n",
    "    # Запускаем команду\n",
    "    process = subprocess.run(sudo_command, shell=True, stdout=subprocess.PIPE, stderr=subprocess.PIPE)\n",
    "    \n",
    "    # Выводим результат выполнения команды\n",
    "    if process.returncode == 0:\n",
    "        print(f'Job submitted for user {user}: {process.stdout.strip()}')\n",
    "    else:\n",
    "        print(f'Error submitting job for {user}: {process.stderr}')\n",
    "\n"
   ]
  },
  {
   "cell_type": "code",
   "execution_count": null,
   "id": "df85a196-fbe9-4416-885f-f117ceb5f997",
   "metadata": {},
   "outputs": [],
   "source": []
  },
  {
   "cell_type": "code",
   "execution_count": 10,
   "id": "22948def-db43-4d98-847d-e5e5a83dcc80",
   "metadata": {},
   "outputs": [
    {
     "data": {
      "text/plain": [
       "()"
      ]
     },
     "execution_count": 10,
     "metadata": {},
     "output_type": "execute_result"
    }
   ],
   "source": [
    "# Execute a SELECT query\n",
    "cursor.execute(\"SELECT * FROM micro_usage_hour_table\")\n",
    "tables = cursor.fetchall()\n",
    "tables"
   ]
  },
  {
   "cell_type": "code",
   "execution_count": null,
   "id": "92bab2ff-0bb2-4634-82ca-7826ea212dad",
   "metadata": {},
   "outputs": [],
   "source": [
    "cursor.close()\n",
    "conn.close()"
   ]
  }
 ],
 "metadata": {
  "kernelspec": {
   "display_name": "Python 3",
   "language": "python",
   "name": "python3"
  },
  "language_info": {
   "codemirror_mode": {
    "name": "ipython",
    "version": 3
   },
   "file_extension": ".py",
   "mimetype": "text/x-python",
   "name": "python",
   "nbconvert_exporter": "python",
   "pygments_lexer": "ipython3",
   "version": "3.6.8"
  }
 },
 "nbformat": 4,
 "nbformat_minor": 5
}
