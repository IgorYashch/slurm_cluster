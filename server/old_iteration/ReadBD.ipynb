{
 "cells": [
  {
   "cell_type": "code",
   "execution_count": 149,
   "id": "bb95e961-e282-4b6c-abe5-6caffb46dd9e",
   "metadata": {},
   "outputs": [],
   "source": [
    "import pymysql\n",
    "import pandas as pd\n",
    "\n",
    "# Database connection parameters\n",
    "host = \"localhost\"\n",
    "user = \"slurm\"\n",
    "password = \"slurm\"\n",
    "database = \"slurmdb_micro3\""
   ]
  },
  {
   "cell_type": "code",
   "execution_count": 150,
   "id": "df85a196-fbe9-4416-885f-f117ceb5f997",
   "metadata": {},
   "outputs": [],
   "source": [
    "conn = pymysql.connect(host=host, user=user, passwd=password, db=database)\n",
    "cursor = conn.cursor()"
   ]
  },
  {
   "cell_type": "code",
   "execution_count": 151,
   "id": "22948def-db43-4d98-847d-e5e5a83dcc80",
   "metadata": {},
   "outputs": [
    {
     "name": "stdout",
     "output_type": "stream",
     "text": [
      "('acct_coord_table',)\n",
      "('acct_table',)\n",
      "('clus_res_table',)\n",
      "('cluster_table',)\n",
      "('convert_version_table',)\n",
      "('federation_table',)\n",
      "('micro_assoc_table',)\n",
      "('micro_assoc_usage_day_table',)\n",
      "('micro_assoc_usage_hour_table',)\n",
      "('micro_assoc_usage_month_table',)\n",
      "('micro_event_table',)\n",
      "('micro_job_table',)\n",
      "('micro_last_ran_table',)\n",
      "('micro_resv_table',)\n",
      "('micro_step_table',)\n",
      "('micro_suspend_table',)\n",
      "('micro_usage_day_table',)\n",
      "('micro_usage_hour_table',)\n",
      "('micro_usage_month_table',)\n",
      "('micro_wckey_table',)\n",
      "('micro_wckey_usage_day_table',)\n",
      "('micro_wckey_usage_hour_table',)\n",
      "('micro_wckey_usage_month_table',)\n",
      "('qos_table',)\n",
      "('res_table',)\n",
      "('table_defs_table',)\n",
      "('tres_table',)\n",
      "('txn_table',)\n",
      "('user_table',)\n"
     ]
    }
   ],
   "source": [
    "cursor.execute(\"SHOW TABLES\")\n",
    "tables = cursor.fetchall()\n",
    "for table_name in tables:\n",
    "    print(table_name)"
   ]
  },
  {
   "cell_type": "code",
   "execution_count": 152,
   "id": "92bab2ff-0bb2-4634-82ca-7826ea212dad",
   "metadata": {},
   "outputs": [],
   "source": [
    "cursor.close()\n",
    "conn.close()"
   ]
  },
  {
   "cell_type": "code",
   "execution_count": 153,
   "id": "759a7d15-ecc0-4591-a17e-68bcba5fcbfc",
   "metadata": {},
   "outputs": [],
   "source": [
    "import pymysql\n",
    "import pandas as pd\n",
    "\n",
    "class SlurmDataBase:\n",
    "    def __init__(self, host, user, password, database, cluster_prefix):\n",
    "        self.host = host\n",
    "        self.user = user\n",
    "        self.password = password\n",
    "        self.database = database\n",
    "        self.cluster_prefix = cluster_prefix\n",
    "    \n",
    "    def read_table(self, query, query_params={}, df=True, verbose=False):\n",
    "        conn = pymysql.connect(\n",
    "            host=self.host,\n",
    "            user=self.user,\n",
    "            password=self.password,\n",
    "            database=self.database\n",
    "        )\n",
    "        cursor = conn.cursor()\n",
    "    \n",
    "        final_query = query.format(**query_params)\n",
    "        if verbose:\n",
    "            print(final_query)\n",
    "        cursor.execute(final_query)\n",
    "        rows = cursor.fetchall()\n",
    "        result = rows if not df else pd.DataFrame(rows, columns=[x[0] for x in cursor.description])\n",
    "        \n",
    "        cursor.close()\n",
    "        conn.close()\n",
    "        return result\n",
    "    \n",
    "    def read_running_tasks(self, columns=[\"*\"], df=True, verbose=False):\n",
    "        RUNNING_TASKS_QUERY = \"select {columns} from {cluste_prefix}_job_table where time_start > 0 and time_end = 0\"\n",
    "        return self.read_table(RUNNING_TASKS_QUERY, {\"columns\": ', '.join(columns), \"cluste_prefix\": self.cluster_prefix}, df=df, verbose=verbose)\n",
    "\n",
    "    def read_queued_tasks(self, columns=[\"*\"], df=True, verbose=False):\n",
    "        RUNNING_TASKS_QUERY = \"select {columns} from {cluste_prefix}_job_table where time_submit > 0 and time_start = 0\"\n",
    "        return self.read_table(RUNNING_TASKS_QUERY, {\"columns\": ', '.join(columns), \"cluste_prefix\": self.cluster_prefix}, df=df, verbose=verbose)"
   ]
  },
  {
   "cell_type": "code",
   "execution_count": 154,
   "id": "18db5587-4dd6-47a6-a782-6d5dc292d80b",
   "metadata": {},
   "outputs": [],
   "source": [
    "database = SlurmDataBase(\n",
    "    host = \"localhost\",\n",
    "    user = \"slurm\",\n",
    "    password = \"slurm\",\n",
    "    database = \"slurmdb_micro3\",\n",
    "    cluster_prefix = \"micro\"\n",
    ")"
   ]
  },
  {
   "cell_type": "code",
   "execution_count": 155,
   "id": "587e1888-4b9b-4ea5-b2b0-e5a06c60741d",
   "metadata": {},
   "outputs": [],
   "source": [
    "table = database.read_table(\"select * from micro_job_table\")"
   ]
  },
  {
   "cell_type": "code",
   "execution_count": 159,
   "id": "73de36f4-63fb-4a04-8598-39a3fcd2de46",
   "metadata": {},
   "outputs": [
    {
     "data": {
      "text/html": [
       "<div>\n",
       "<style scoped>\n",
       "    .dataframe tbody tr th:only-of-type {\n",
       "        vertical-align: middle;\n",
       "    }\n",
       "\n",
       "    .dataframe tbody tr th {\n",
       "        vertical-align: top;\n",
       "    }\n",
       "\n",
       "    .dataframe thead th {\n",
       "        text-align: right;\n",
       "    }\n",
       "</style>\n",
       "<table border=\"1\" class=\"dataframe\">\n",
       "  <thead>\n",
       "    <tr style=\"text-align: right;\">\n",
       "      <th></th>\n",
       "      <th>time_start</th>\n",
       "      <th>time_end</th>\n",
       "    </tr>\n",
       "  </thead>\n",
       "  <tbody>\n",
       "    <tr>\n",
       "      <th>0</th>\n",
       "      <td>1712827213</td>\n",
       "      <td>1712827223</td>\n",
       "    </tr>\n",
       "    <tr>\n",
       "      <th>1</th>\n",
       "      <td>1712827240</td>\n",
       "      <td>1712827250</td>\n",
       "    </tr>\n",
       "    <tr>\n",
       "      <th>2</th>\n",
       "      <td>1712827240</td>\n",
       "      <td>1712827250</td>\n",
       "    </tr>\n",
       "    <tr>\n",
       "      <th>3</th>\n",
       "      <td>1712827240</td>\n",
       "      <td>1712827250</td>\n",
       "    </tr>\n",
       "    <tr>\n",
       "      <th>4</th>\n",
       "      <td>1712827240</td>\n",
       "      <td>1712827250</td>\n",
       "    </tr>\n",
       "    <tr>\n",
       "      <th>...</th>\n",
       "      <td>...</td>\n",
       "      <td>...</td>\n",
       "    </tr>\n",
       "    <tr>\n",
       "      <th>8811</th>\n",
       "      <td>1712850211</td>\n",
       "      <td>1712850221</td>\n",
       "    </tr>\n",
       "    <tr>\n",
       "      <th>8812</th>\n",
       "      <td>1712850221</td>\n",
       "      <td>1712850231</td>\n",
       "    </tr>\n",
       "    <tr>\n",
       "      <th>8813</th>\n",
       "      <td>1712850214</td>\n",
       "      <td>1712850224</td>\n",
       "    </tr>\n",
       "    <tr>\n",
       "      <th>8814</th>\n",
       "      <td>1712850211</td>\n",
       "      <td>1712850221</td>\n",
       "    </tr>\n",
       "    <tr>\n",
       "      <th>8815</th>\n",
       "      <td>1712850211</td>\n",
       "      <td>1712850221</td>\n",
       "    </tr>\n",
       "  </tbody>\n",
       "</table>\n",
       "<p>8816 rows × 2 columns</p>\n",
       "</div>"
      ],
      "text/plain": [
       "      time_start    time_end\n",
       "0     1712827213  1712827223\n",
       "1     1712827240  1712827250\n",
       "2     1712827240  1712827250\n",
       "3     1712827240  1712827250\n",
       "4     1712827240  1712827250\n",
       "...          ...         ...\n",
       "8811  1712850211  1712850221\n",
       "8812  1712850221  1712850231\n",
       "8813  1712850214  1712850224\n",
       "8814  1712850211  1712850221\n",
       "8815  1712850211  1712850221\n",
       "\n",
       "[8816 rows x 2 columns]"
      ]
     },
     "execution_count": 159,
     "metadata": {},
     "output_type": "execute_result"
    }
   ],
   "source": [
    "table[['time_start', 'time_end']]"
   ]
  }
 ],
 "metadata": {
  "kernelspec": {
   "display_name": "Python 3",
   "language": "python",
   "name": "python3"
  },
  "language_info": {
   "codemirror_mode": {
    "name": "ipython",
    "version": 3
   },
   "file_extension": ".py",
   "mimetype": "text/x-python",
   "name": "python",
   "nbconvert_exporter": "python",
   "pygments_lexer": "ipython3",
   "version": "3.6.8"
  }
 },
 "nbformat": 4,
 "nbformat_minor": 5
}
