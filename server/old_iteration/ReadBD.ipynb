{
 "cells": [
  {
   "cell_type": "code",
   "execution_count": 98,
   "id": "bb95e961-e282-4b6c-abe5-6caffb46dd9e",
   "metadata": {},
   "outputs": [],
   "source": [
    "import pymysql\n",
    "import pandas as pd\n",
    "\n",
    "# Database connection parameters\n",
    "host = \"localhost\"\n",
    "user = \"slurm\"\n",
    "password = \"slurm\"\n",
    "database = \"slurmdb_micro3\""
   ]
  },
  {
   "cell_type": "code",
   "execution_count": 99,
   "id": "df85a196-fbe9-4416-885f-f117ceb5f997",
   "metadata": {},
   "outputs": [],
   "source": [
    "conn = pymysql.connect(host=host, user=user, passwd=password, db=database)\n",
    "cursor = conn.cursor()"
   ]
  },
  {
   "cell_type": "code",
   "execution_count": 100,
   "id": "22948def-db43-4d98-847d-e5e5a83dcc80",
   "metadata": {},
   "outputs": [
    {
     "name": "stdout",
     "output_type": "stream",
     "text": [
      "('acct_coord_table',)\n",
      "('acct_table',)\n",
      "('clus_res_table',)\n",
      "('cluster_table',)\n",
      "('convert_version_table',)\n",
      "('federation_table',)\n",
      "('micro_assoc_table',)\n",
      "('micro_assoc_usage_day_table',)\n",
      "('micro_assoc_usage_hour_table',)\n",
      "('micro_assoc_usage_month_table',)\n",
      "('micro_event_table',)\n",
      "('micro_job_table',)\n",
      "('micro_last_ran_table',)\n",
      "('micro_resv_table',)\n",
      "('micro_step_table',)\n",
      "('micro_suspend_table',)\n",
      "('micro_usage_day_table',)\n",
      "('micro_usage_hour_table',)\n",
      "('micro_usage_month_table',)\n",
      "('micro_wckey_table',)\n",
      "('micro_wckey_usage_day_table',)\n",
      "('micro_wckey_usage_hour_table',)\n",
      "('micro_wckey_usage_month_table',)\n",
      "('qos_table',)\n",
      "('res_table',)\n",
      "('table_defs_table',)\n",
      "('tres_table',)\n",
      "('txn_table',)\n",
      "('user_table',)\n"
     ]
    }
   ],
   "source": [
    "cursor.execute(\"SHOW TABLES\")\n",
    "tables = cursor.fetchall()\n",
    "for table_name in tables:\n",
    "    print(table_name)"
   ]
  },
  {
   "cell_type": "code",
   "execution_count": 101,
   "id": "92bab2ff-0bb2-4634-82ca-7826ea212dad",
   "metadata": {},
   "outputs": [],
   "source": [
    "cursor.close()\n",
    "conn.close()"
   ]
  },
  {
   "cell_type": "code",
   "execution_count": 102,
   "id": "759a7d15-ecc0-4591-a17e-68bcba5fcbfc",
   "metadata": {},
   "outputs": [],
   "source": [
    "import pymysql\n",
    "import pandas as pd\n",
    "\n",
    "class SlurmDataBase:\n",
    "    def __init__(self, host, user, password, database, cluster_prefix):\n",
    "        self.host = host\n",
    "        self.user = user\n",
    "        self.password = password\n",
    "        self.database = database\n",
    "        self.cluster_prefix = cluster_prefix\n",
    "    \n",
    "    def read_table(self, query, query_params={}, df=True, verbose=False):\n",
    "        conn = pymysql.connect(\n",
    "            host=self.host,\n",
    "            user=self.user,\n",
    "            password=self.password,\n",
    "            database=self.database\n",
    "        )\n",
    "        cursor = conn.cursor()\n",
    "    \n",
    "        final_query = query.format(**query_params)\n",
    "        if verbose:\n",
    "            print(final_query)\n",
    "        cursor.execute(final_query)\n",
    "        rows = cursor.fetchall()\n",
    "        result = rows if not df else pd.DataFrame(rows, columns=[x[0] for x in cursor.description])\n",
    "        \n",
    "        cursor.close()\n",
    "        conn.close()\n",
    "        return result\n",
    "    \n",
    "    def read_running_tasks(self, columns=[\"*\"], df=True, verbose=False):\n",
    "        RUNNING_TASKS_QUERY = \"select {columns} from {cluste_prefix}_job_table where time_start > 0 and time_end = 0\"\n",
    "        return self.read_table(RUNNING_TASKS_QUERY, {\"columns\": ', '.join(columns), \"cluste_prefix\": self.cluster_prefix}, df=df, verbose=verbose)\n",
    "\n",
    "    def read_queued_tasks(self, columns=[\"*\"], df=True, verbose=False):\n",
    "        RUNNING_TASKS_QUERY = \"select {columns} from {cluste_prefix}_job_table where time_submit > 0 and time_start = 0\"\n",
    "        return self.read_table(RUNNING_TASKS_QUERY, {\"columns\": ', '.join(columns), \"cluste_prefix\": self.cluster_prefix}, df=df, verbose=verbose)"
   ]
  },
  {
   "cell_type": "code",
   "execution_count": 103,
   "id": "18db5587-4dd6-47a6-a782-6d5dc292d80b",
   "metadata": {},
   "outputs": [],
   "source": [
    "database = SlurmDataBase(\n",
    "    host = \"localhost\",\n",
    "    user = \"slurm\",\n",
    "    password = \"slurm\",\n",
    "    database = \"slurmdb_micro3\",\n",
    "    cluster_prefix = \"micro\"\n",
    ")"
   ]
  },
  {
   "cell_type": "code",
   "execution_count": 104,
   "id": "587e1888-4b9b-4ea5-b2b0-e5a06c60741d",
   "metadata": {},
   "outputs": [],
   "source": [
    "table = database.read_table(\"select * from micro_job_table\")"
   ]
  },
  {
   "cell_type": "code",
   "execution_count": 111,
   "id": "1fd1a768-cdc8-4d80-adef-cf57586c1c84",
   "metadata": {},
   "outputs": [
    {
     "data": {
      "text/plain": [
       "509    job_1000104\n",
       "510    job_1000105\n",
       "511    job_1000106\n",
       "512    job_1000107\n",
       "513    job_1000108\n",
       "Name: job_name, dtype: object"
      ]
     },
     "execution_count": 111,
     "metadata": {},
     "output_type": "execute_result"
    }
   ],
   "source": [
    "table[-5:]['job_name']"
   ]
  },
  {
   "cell_type": "code",
   "execution_count": 105,
   "id": "73de36f4-63fb-4a04-8598-39a3fcd2de46",
   "metadata": {},
   "outputs": [
    {
     "data": {
      "text/plain": [
       "50    470\n",
       "51    472\n",
       "52    476\n",
       "53    475\n",
       "54    476\n",
       "55    770\n",
       "56    472\n",
       "57    473\n",
       "58    469\n",
       "59    468\n",
       "60     93\n",
       "61    101\n",
       "62    470\n",
       "63    753\n",
       "64    463\n",
       "65    462\n",
       "66    453\n",
       "67    456\n",
       "68    758\n",
       "69     98\n",
       "70    452\n",
       "71    769\n",
       "72    772\n",
       "73    781\n",
       "74    437\n",
       "75    782\n",
       "76    439\n",
       "77    802\n",
       "78    124\n",
       "79    434\n",
       "80    436\n",
       "81    438\n",
       "82    441\n",
       "83    442\n",
       "84    444\n",
       "85    801\n",
       "86    438\n",
       "87    443\n",
       "88    442\n",
       "89    805\n",
       "90    439\n",
       "91    812\n",
       "92    438\n",
       "93    440\n",
       "94     99\n",
       "95    812\n",
       "96    435\n",
       "97    432\n",
       "98    826\n",
       "99     94\n",
       "dtype: int64"
      ]
     },
     "execution_count": 105,
     "metadata": {},
     "output_type": "execute_result"
    }
   ],
   "source": [
    "(table[\"time_start\"] - table[\"time_submit\"])[50:100]"
   ]
  },
  {
   "cell_type": "code",
   "execution_count": 106,
   "id": "c2493553-c1be-4e7c-998f-de9792ee0ee9",
   "metadata": {},
   "outputs": [
    {
     "ename": "SyntaxError",
     "evalue": "unexpected EOF while parsing (<ipython-input-106-201d2338a55c>, line 1)",
     "output_type": "error",
     "traceback": [
      "\u001b[0;36m  File \u001b[0;32m\"<ipython-input-106-201d2338a55c>\"\u001b[0;36m, line \u001b[0;32m1\u001b[0m\n\u001b[0;31m    table[-10:][\u001b[0m\n\u001b[0m                ^\u001b[0m\n\u001b[0;31mSyntaxError\u001b[0m\u001b[0;31m:\u001b[0m unexpected EOF while parsing\n"
     ]
    }
   ],
   "source": [
    "table[-10:]["
   ]
  },
  {
   "cell_type": "code",
   "execution_count": 107,
   "id": "ff7e5946-00e9-4a20-b612-bc6aacd10cd2",
   "metadata": {},
   "outputs": [],
   "source": [
    "from datetime import datetime, timedelta\n",
    "\n",
    "# Get the current time in UTC\n",
    "current_time = datetime.now() + timedelta(hours=3)\n",
    "\n",
    "# Convert the Moscow time back to Unix timestamp\n",
    "moscow_unix_timestamp = current_time.timestamp()"
   ]
  },
  {
   "cell_type": "code",
   "execution_count": 108,
   "id": "814c4340-b5f7-4a43-9032-66f24cb06f06",
   "metadata": {},
   "outputs": [
    {
     "data": {
      "text/plain": [
       "1716233074.319951"
      ]
     },
     "execution_count": 108,
     "metadata": {},
     "output_type": "execute_result"
    }
   ],
   "source": [
    "moscow_unix_timestamp"
   ]
  },
  {
   "cell_type": "code",
   "execution_count": 109,
   "id": "719ce427-0a62-4bfc-b648-2c704f4c4169",
   "metadata": {},
   "outputs": [
    {
     "ename": "NameError",
     "evalue": "name 'queue_data' is not defined",
     "output_type": "error",
     "traceback": [
      "\u001b[0;31m---------------------------------------------------------------------------\u001b[0m",
      "\u001b[0;31mNameError\u001b[0m                                 Traceback (most recent call last)",
      "\u001b[0;32m<ipython-input-109-3578a98e5719>\u001b[0m in \u001b[0;36m<module>\u001b[0;34m\u001b[0m\n\u001b[0;32m----> 1\u001b[0;31m \u001b[0mresult\u001b[0m\u001b[0;34m[\u001b[0m\u001b[0;34m\"mean_timelimit\"\u001b[0m\u001b[0;34m]\u001b[0m \u001b[0;34m=\u001b[0m \u001b[0mqueue_data\u001b[0m\u001b[0;34m[\u001b[0m\u001b[0;34m\"timelimit\"\u001b[0m\u001b[0;34m]\u001b[0m\u001b[0;34m.\u001b[0m\u001b[0mmean\u001b[0m\u001b[0;34m(\u001b[0m\u001b[0;34m)\u001b[0m\u001b[0;34m\u001b[0m\u001b[0;34m\u001b[0m\u001b[0m\n\u001b[0m\u001b[1;32m      2\u001b[0m \u001b[0mresult\u001b[0m\u001b[0;34m[\u001b[0m\u001b[0;34m\"sum_timelimit\"\u001b[0m\u001b[0;34m]\u001b[0m \u001b[0;34m=\u001b[0m \u001b[0mqueue_data\u001b[0m\u001b[0;34m[\u001b[0m\u001b[0;34m\"timelimit\"\u001b[0m\u001b[0;34m]\u001b[0m\u001b[0;34m.\u001b[0m\u001b[0msum\u001b[0m\u001b[0;34m(\u001b[0m\u001b[0;34m)\u001b[0m\u001b[0;34m\u001b[0m\u001b[0;34m\u001b[0m\u001b[0m\n\u001b[1;32m      3\u001b[0m \u001b[0mresult\u001b[0m\u001b[0;34m[\u001b[0m\u001b[0;34m\"min_timelimit\"\u001b[0m\u001b[0;34m]\u001b[0m \u001b[0;34m=\u001b[0m \u001b[0mqueue_data\u001b[0m\u001b[0;34m[\u001b[0m\u001b[0;34m\"timelimit\"\u001b[0m\u001b[0;34m]\u001b[0m\u001b[0;34m.\u001b[0m\u001b[0mmin\u001b[0m\u001b[0;34m(\u001b[0m\u001b[0;34m)\u001b[0m\u001b[0;34m\u001b[0m\u001b[0;34m\u001b[0m\u001b[0m\n\u001b[1;32m      4\u001b[0m \u001b[0mresult\u001b[0m\u001b[0;34m[\u001b[0m\u001b[0;34m\"max_timelimit\"\u001b[0m\u001b[0;34m]\u001b[0m \u001b[0;34m=\u001b[0m \u001b[0mqueue_data\u001b[0m\u001b[0;34m[\u001b[0m\u001b[0;34m\"timelimit\"\u001b[0m\u001b[0;34m]\u001b[0m\u001b[0;34m.\u001b[0m\u001b[0mmax\u001b[0m\u001b[0;34m(\u001b[0m\u001b[0;34m)\u001b[0m\u001b[0;34m\u001b[0m\u001b[0;34m\u001b[0m\u001b[0m\n\u001b[1;32m      5\u001b[0m \u001b[0mresult\u001b[0m\u001b[0;34m[\u001b[0m\u001b[0;34m\"mean_timelimit_user\"\u001b[0m\u001b[0;34m]\u001b[0m \u001b[0;34m=\u001b[0m \u001b[0mqueue_data_user\u001b[0m\u001b[0;34m[\u001b[0m\u001b[0;34m\"timelimit\"\u001b[0m\u001b[0;34m]\u001b[0m\u001b[0;34m.\u001b[0m\u001b[0mmean\u001b[0m\u001b[0;34m(\u001b[0m\u001b[0;34m)\u001b[0m\u001b[0;34m\u001b[0m\u001b[0;34m\u001b[0m\u001b[0m\n",
      "\u001b[0;31mNameError\u001b[0m: name 'queue_data' is not defined"
     ]
    }
   ],
   "source": [
    "result[\"mean_timelimit\"] = queue_data[\"timelimit\"].mean()\n",
    "result[\"sum_timelimit\"] = queue_data[\"timelimit\"].sum()\n",
    "result[\"min_timelimit\"] = queue_data[\"timelimit\"].min()\n",
    "result[\"max_timelimit\"] = queue_data[\"timelimit\"].max()\n",
    "result[\"mean_timelimit_user\"] = queue_data_user[\"timelimit\"].mean()\n",
    "result[\"sum_timelimit_user\"] = queue_data_user[\"timelimit\"].sum()\n",
    "result[\"min_timelimit_user\"] = queue_data_user[\"timelimit\"].min()\n",
    "result[\"max_timelimit_user\"] = queue_data_user[\"timelimit\"].max()"
   ]
  },
  {
   "cell_type": "code",
   "execution_count": 97,
   "id": "af49b5b4-f574-4952-9a04-619da8ac7fc7",
   "metadata": {},
   "outputs": [
    {
     "data": {
      "text/plain": [
       "job_db_inx                                                 521\n",
       "mod_time                                            1716221898\n",
       "deleted                                                      0\n",
       "account                                               account1\n",
       "admin_comment                                             None\n",
       "array_task_str                                            None\n",
       "array_max_tasks                                              0\n",
       "array_task_pending                                           0\n",
       "batch_script                                              None\n",
       "constraints                                               None\n",
       "container                                                 None\n",
       "cpus_req                                                     1\n",
       "derived_ec                                                   0\n",
       "derived_es                                             logging\n",
       "env_vars                                                  None\n",
       "exit_code                                                    0\n",
       "flags                                                        4\n",
       "job_name                                 job_1000101_test_only\n",
       "id_assoc                                                     7\n",
       "id_array_job                                                 0\n",
       "id_array_task                                       4294967294\n",
       "id_block                                                  None\n",
       "id_job                                                    1650\n",
       "id_qos                                                       1\n",
       "id_resv                                                      0\n",
       "id_wckey                                                     0\n",
       "id_user                                                  10001\n",
       "id_group                                                   100\n",
       "het_job_id                                                   0\n",
       "het_job_offset                                      4294967294\n",
       "kill_requid                                                 -1\n",
       "state_reason_prev                                            0\n",
       "mcs_label                                                 None\n",
       "mem_req                                    9223372036854776308\n",
       "nodelist                                                    n1\n",
       "nodes_alloc                                                  1\n",
       "node_inx                                                     0\n",
       "partition                                               normal\n",
       "priority                                               1058928\n",
       "state                                                        3\n",
       "timelimit                                                    1\n",
       "time_submit                                         1716221872\n",
       "time_eligible                                       1716221872\n",
       "time_start                                          1716221892\n",
       "time_end                                            1716221898\n",
       "time_suspended                                               0\n",
       "gres_used                                                     \n",
       "wckey                                                         \n",
       "work_dir                                      /root/experiment\n",
       "submit_line                          sbatch tmp/job_1000101.sh\n",
       "system_comment                                            None\n",
       "track_steps                                                  0\n",
       "tres_alloc            1=1,2=500,3=18446744073709551614,4=1,5=1\n",
       "tres_req                                     1=1,2=500,4=1,5=1\n",
       "Name: 506, dtype: object"
      ]
     },
     "execution_count": 97,
     "metadata": {},
     "output_type": "execute_result"
    }
   ],
   "source": [
    "table.iloc[-1]"
   ]
  },
  {
   "cell_type": "code",
   "execution_count": null,
   "id": "6797ec84-d233-4194-be15-881916b13c05",
   "metadata": {},
   "outputs": [],
   "source": []
  }
 ],
 "metadata": {
  "kernelspec": {
   "display_name": "Python 3",
   "language": "python",
   "name": "python3"
  },
  "language_info": {
   "codemirror_mode": {
    "name": "ipython",
    "version": 3
   },
   "file_extension": ".py",
   "mimetype": "text/x-python",
   "name": "python",
   "nbconvert_exporter": "python",
   "pygments_lexer": "ipython3",
   "version": "3.6.8"
  }
 },
 "nbformat": 4,
 "nbformat_minor": 5
}
