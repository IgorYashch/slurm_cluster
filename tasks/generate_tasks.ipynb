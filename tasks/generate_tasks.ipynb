{
 "cells": [
  {
   "cell_type": "code",
   "execution_count": 2,
   "id": "bb95e961-e282-4b6c-abe5-6caffb46dd9e",
   "metadata": {},
   "outputs": [
    {
     "name": "stdout",
     "output_type": "stream",
     "text": [
      "Job tmp/job_10_0.sh submitted as user1\n",
      "Job tmp/job_11_0.sh submitted as user2\n",
      "Job tmp/job_12_0.sh submitted as user3\n",
      "Job tmp/job_13_0.sh submitted as user4\n",
      "Job tmp/job_14_0.sh submitted as user5\n"
     ]
    }
   ],
   "source": [
    "import subprocess\n",
    "import time\n",
    "import numpy as np\n",
    "\n",
    "# Function to create SBATCH script\n",
    "def create_sbatch_script(job_name, script_content):\n",
    "    script_path = f\"tmp/{job_name}.sh\"\n",
    "    with open(script_path, 'w') as file:\n",
    "        file.write(script_content)\n",
    "    return script_path\n",
    "\n",
    "# Function to submit job as a different user\n",
    "def submit_job_as_user(script_path, user):\n",
    "    try:\n",
    "        # Command to switch user and submit job\n",
    "        cmd = f\"sudo -u {user} sbatch {script_path}\"\n",
    "        subprocess.run(cmd, shell=True, check=True, universal_newlines=True, stdout=subprocess.PIPE)\n",
    "        print(f\"Job {script_path} submitted as {user}\")\n",
    "    except subprocess.CalledProcessError as e:\n",
    "        print(f\"Error submitting job {script_path} as {user}: {e}\")\n",
    "\n",
    "# Example usage\n",
    "users = [\"user1\", \"user2\", \"user3\", \"user4\", \"user5\"]\n",
    "job_script_content = \"\"\"#!/bin/bash\n",
    "#!/bin/bash\n",
    "#SBATCH --job-name=test_job\n",
    "#SBATCH --ntasks=1\n",
    "#SBATCH --cpus-per-task=2\n",
    "#SBATCH --output=/home/{user}/result-%j.out\n",
    "#SBATCH --time=2:00\n",
    "#SBATCH --comment=\"logging\"\n",
    "#SBATCH --error=/home/{user}/error-%j.err\n",
    "\n",
    "echo \"Starting job $SLURM_JOB_ID\"\n",
    "sleep {sleep_time}\n",
    "echo \"Job $SLURM_JOB_ID completed\"\n",
    "\"\"\"\n",
    "\n",
    "for j in range(1):\n",
    "    for i, user in enumerate(users, start=10):\n",
    "        \n",
    "        script_path = create_sbatch_script(f\"job_{i}_{j}\", job_script_content.format(user=user, sleep_time=np.random.randint(10, 30)))\n",
    "        submit_job_as_user(script_path, user)\n",
    "        time.sleep(np.random.randint(0.5, 3))\n"
   ]
  },
  {
   "cell_type": "code",
   "execution_count": null,
   "id": "df85a196-fbe9-4416-885f-f117ceb5f997",
   "metadata": {},
   "outputs": [],
   "source": []
  }
 ],
 "metadata": {
  "kernelspec": {
   "display_name": "Python 3",
   "language": "python",
   "name": "python3"
  },
  "language_info": {
   "codemirror_mode": {
    "name": "ipython",
    "version": 3
   },
   "file_extension": ".py",
   "mimetype": "text/x-python",
   "name": "python",
   "nbconvert_exporter": "python",
   "pygments_lexer": "ipython3",
   "version": "3.6.8"
  }
 },
 "nbformat": 4,
 "nbformat_minor": 5
}
